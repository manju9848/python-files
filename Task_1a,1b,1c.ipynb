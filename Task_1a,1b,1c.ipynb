{
  "nbformat": 4,
  "nbformat_minor": 0,
  "metadata": {
    "colab": {
      "provenance": []
    },
    "kernelspec": {
      "name": "python3",
      "display_name": "Python 3"
    },
    "language_info": {
      "name": "python"
    }
  },
  "cells": [
    {
      "cell_type": "code",
      "execution_count": 2,
      "metadata": {
        "colab": {
          "base_uri": "https://localhost:8080/"
        },
        "id": "WCz_g7EuUKnW",
        "outputId": "144fd69f-1e5e-4a1d-e6dc-b6e521e0301b"
      },
      "outputs": [
        {
          "output_type": "stream",
          "name": "stdout",
          "text": [
            "Enter the First number:5\n",
            "Enter the Second number:6\n",
            "Addition: 11\n",
            "Subtraction : -1\n",
            "Multiplication: 30\n",
            "Division: 0.8333333333333334\n",
            "Enter the First number: 7\n",
            "Enter the Second number: 8\n",
            "Enter the Third number: 9\n",
            "7 > 8 is False\n",
            "7 < 8 is True\n",
            "9 == 7 is False\n",
            "9 != 8 is True\n",
            "7 >= 8 is False\n",
            "8 <= 7 is False\n",
            "Enter the First number: 1\n",
            "Enter the Second number: 2\n",
            "Enter the Third number: 3\n",
            "\n",
            "Logical Operations Results:\n",
            "False\n",
            "False\n",
            "True\n",
            "True\n"
          ]
        }
      ],
      "source": [
        "x =int(input(\"Enter the First number:\"))\n",
        "y =int(input(\"Enter the Second number:\"))\n",
        "\n",
        "add = x + y\n",
        "sub = x - y\n",
        "pro = x * y\n",
        "div = x / y\n",
        "\n",
        "print(\"Addition:\",add)\n",
        "print(\"Subtraction :\",sub)\n",
        "print(\"Multiplication:\",pro)\n",
        "print(\"Division:\",div)\n",
        "\n",
        "# Initializing the value of a, b, and c\n",
        "a = int(input(\"Enter the First number: \"))\n",
        "b = int(input(\"Enter the Second number: \"))\n",
        "c = int(input(\"Enter the Third number: \"))\n",
        "\n",
        "# Using relational operators\n",
        "print(a, \">\", b, \"is\", a > b)\n",
        "print(a, \"<\", b, \"is\", a < b)\n",
        "print(c, \"==\", a, \"is\", c == a)\n",
        "print(c, \"!=\", b, \"is\", c != b)\n",
        "print(a, \">=\", b, \"is\", a >= b)\n",
        "print(b, \"<=\", a, \"is\", b <= a)\n",
        "\n",
        "# Taking three numbers as input\n",
        "a = int(input(\"Enter the First number: \"))\n",
        "b = int(input(\"Enter the Second number: \"))\n",
        "c = int(input(\"Enter the Third number: \"))\n",
        "\n",
        "# Performing logical operations\n",
        "print(\"\\nLogical Operations Results:\")\n",
        "print((a > b) and (b > c))\n",
        "print((a > b) or (b > c))\n",
        "print(not(a > b))\n",
        "print(not(b > c))\n",
        "\n",
        "\n",
        "\n",
        "\n"
      ]
    }
  ]
}