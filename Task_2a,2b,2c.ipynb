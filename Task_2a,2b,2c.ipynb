{
  "nbformat": 4,
  "nbformat_minor": 0,
  "metadata": {
    "colab": {
      "provenance": [],
      "authorship_tag": "ABX9TyN30HLkkB9/l6sntElE5lNm",
      "include_colab_link": true
    },
    "kernelspec": {
      "name": "python3",
      "display_name": "Python 3"
    },
    "language_info": {
      "name": "python"
    }
  },
  "cells": [
    {
      "cell_type": "markdown",
      "metadata": {
        "id": "view-in-github",
        "colab_type": "text"
      },
      "source": [
        "<a href=\"https://colab.research.google.com/github/manju9848/python-files/blob/main/Task_2a%2C2b%2C2c.ipynb\" target=\"_parent\"><img src=\"https://colab.research.google.com/assets/colab-badge.svg\" alt=\"Open In Colab\"/></a>"
      ]
    },
    {
      "cell_type": "code",
      "execution_count": 3,
      "metadata": {
        "colab": {
          "base_uri": "https://localhost:8080/"
        },
        "id": "WCz_g7EuUKnW",
        "outputId": "0e431ac5-5f70-4564-9bf0-eae4fc0374e1"
      },
      "outputs": [
        {
          "output_type": "stream",
          "name": "stdout",
          "text": [
            "Enter the score:60\n",
            "The Grade is D\n",
            "The first 10 natural numbers are:\n",
            "1\n",
            "2\n",
            "3\n",
            "4\n",
            "5\n",
            "6\n",
            "7\n",
            "8\n",
            "9\n",
            "10\n",
            "Enter the Number:1\n",
            "The number of digits in  1 is : 1\n"
          ]
        }
      ],
      "source": [
        "\n",
        "score =int(input(\"Enter the score:\"))\n",
        "if score>=90:\n",
        "    print(\"The Grade is A\")\n",
        "elif (score <=89 and score>=80):\n",
        "    print(\"The Grade is B\")\n",
        "elif(score <=79 and score >=70):\n",
        "    print(\"The Grade is C\")\n",
        "elif( score <=69 and score >=60):\n",
        "    print(\"The Grade is D\")\n",
        "else:\n",
        "    print(\"The Grade is F\")\n",
        "\n",
        "\n",
        "# Displaying the first 10 natural numbers\n",
        "print(\"The first 10 natural numbers are:\")\n",
        "for i in range(1, 11):  # Loop from 1 to 10\n",
        "    print(i)\n",
        "\n",
        "digit=int(input(\"Enter the Number:\"))\n",
        "string=str(digit) #since integer doesn't have len()\n",
        "count=len(string)\n",
        "print(\"The number of digits in \",digit,\"is :\",count)\n",
        "\n",
        "\n",
        "\n",
        "\n",
        "\n",
        "\n"
      ]
    }
  ]
}