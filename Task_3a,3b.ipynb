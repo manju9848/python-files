{
  "nbformat": 4,
  "nbformat_minor": 0,
  "metadata": {
    "colab": {
      "provenance": [],
      "authorship_tag": "ABX9TyPO2c3U9JvMp2rg2LpotMNi",
      "include_colab_link": true
    },
    "kernelspec": {
      "name": "python3",
      "display_name": "Python 3"
    },
    "language_info": {
      "name": "python"
    }
  },
  "cells": [
    {
      "cell_type": "markdown",
      "metadata": {
        "id": "view-in-github",
        "colab_type": "text"
      },
      "source": [
        "<a href=\"https://colab.research.google.com/github/manju9848/python-files/blob/main/Task_3a%2C3b.ipynb\" target=\"_parent\"><img src=\"https://colab.research.google.com/assets/colab-badge.svg\" alt=\"Open In Colab\"/></a>"
      ]
    },
    {
      "cell_type": "code",
      "execution_count": 7,
      "metadata": {
        "colab": {
          "base_uri": "https://localhost:8080/",
          "height": 106
        },
        "id": "WCz_g7EuUKnW",
        "outputId": "6ffd74c3-7fbe-46a2-8c18-d3a887b1c2a7"
      },
      "outputs": [
        {
          "output_type": "error",
          "ename": "SyntaxError",
          "evalue": "unmatched ')' (ipython-input-3232327866.py, line 37)",
          "traceback": [
            "\u001b[0;36m  File \u001b[0;32m\"/tmp/ipython-input-3232327866.py\"\u001b[0;36m, line \u001b[0;32m37\u001b[0m\n\u001b[0;31m    return math.pi * radth, width):\u001b[0m\n\u001b[0m                                 ^\u001b[0m\n\u001b[0;31mSyntaxError\u001b[0m\u001b[0;31m:\u001b[0m unmatched ')'\n"
          ]
        }
      ],
      "source": [
        "def add(a, b):\n",
        "    return a + b\n",
        "def subtract(a, b):\n",
        "    return a - b\n",
        "def multiply(a, b):\n",
        "    return a * b\n",
        "def divide(a, b):\n",
        "    if b == 0:\n",
        "        raise ValueError(\"Cannot divide by zero\")\n",
        "    return a / b\n",
        "\n",
        "import mymath\n",
        "\n",
        "a = 10\n",
        "b = 5\n",
        "print(\"Addition:\", mymath.add(a, b))\n",
        "print(\"Subtraction:\", mymath.subtract(a, b))\n",
        "print(\"Multiplication:\", mymath.multiply(a, b))\n",
        "print(\"Division:\", mymath.divide(a, b))\n",
        "\n",
        "\n",
        "1.\tCreate the mathfunctions.py module\n",
        "def add(a, b):\n",
        "    return a + b\n",
        "def subtract(a, b):\n",
        "    return a - b\n",
        "def multiply(a, b):\n",
        "    return a * b\n",
        "def divide(a, b):\n",
        "    if b == 0:\n",
        "        return \"Error! Division by zero.\"\n",
        "    return a / b\n",
        "\n",
        "2.\tCreate the areafunctions.py module\n",
        "import math\n",
        "def circle_area(radius):\n",
        "    return math.pi * radth, width):\n",
        "    return length * widius * radius\n",
        "def rectangle_area(length\n",
        "def triangle_area(base, height):\n",
        "    return 0.5 * base * height\n",
        "\n",
        "3.\tCreate __init__.py in each package folder (pack1 and pack2)\n",
        "from .mathfunctions import add, subtract, multiply, divide\n",
        "from .areafunctions import circle_area, rectangle_area, triangle_area\n",
        "\n",
        "4.\tCreate the main.py file\n",
        "from pack import mathfunctions\n",
        "from pack import areafunctions\n",
        "# Using math functions\n",
        "print(\"Addition:\", mathfunctions.add(10, 5))\n",
        "print(\"Subtraction:\", mathfunctions.subtract(10, 5))\n",
        "print(\"Multiplication:\", mathfunctions.multiply(10, 5))\n",
        "print(\"Division:\", mathfunctions.divide(10, 5))\n",
        "# Using area functions\n",
        "print(\"Circle Area (radius=7):\", areafunctions.circle_area(7))\n",
        "print(\"Rectangle Area (5x10):\", areafunctions.rectangle_area(5, 10))\n",
        "print(\"Triangle Area (base=6, height=8):\", areafunctions.triangle_area(6, 8))\n",
        "\n",
        "\n",
        "\n",
        "\n",
        "\n",
        "\n",
        "\n",
        "\n",
        "\n",
        "\n",
        "\n",
        "\n",
        "\n",
        "\n",
        "\n",
        "\n"
      ]
    }
  ]
}