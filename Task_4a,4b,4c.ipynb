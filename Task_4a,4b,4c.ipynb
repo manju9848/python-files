{
  "nbformat": 4,
  "nbformat_minor": 0,
  "metadata": {
    "colab": {
      "provenance": [],
      "authorship_tag": "ABX9TyOO8q4SQsvquRYWpQWwR83e",
      "include_colab_link": true
    },
    "kernelspec": {
      "name": "python3",
      "display_name": "Python 3"
    },
    "language_info": {
      "name": "python"
    }
  },
  "cells": [
    {
      "cell_type": "markdown",
      "metadata": {
        "id": "view-in-github",
        "colab_type": "text"
      },
      "source": [
        "<a href=\"https://colab.research.google.com/github/manju9848/python-files/blob/main/Task_4a%2C4b%2C4c.ipynb\" target=\"_parent\"><img src=\"https://colab.research.google.com/assets/colab-badge.svg\" alt=\"Open In Colab\"/></a>"
      ]
    },
    {
      "cell_type": "code",
      "execution_count": 8,
      "metadata": {
        "colab": {
          "base_uri": "https://localhost:8080/",
          "height": 106
        },
        "id": "WCz_g7EuUKnW",
        "outputId": "9685fa62-4b01-4769-93fb-43f525e871fd"
      },
      "outputs": [
        {
          "output_type": "error",
          "ename": "SyntaxError",
          "evalue": "cannot assign to function call here. Maybe you meant '==' instead of '='? (ipython-input-3320700986.py, line 36)",
          "traceback": [
            "\u001b[0;36m  File \u001b[0;32m\"/tmp/ipython-input-3320700986.py\"\u001b[0;36m, line \u001b[0;32m36\u001b[0m\n\u001b[0;31m    tuple(3)=\"PI\" #ERROR\u001b[0m\n\u001b[0m    ^\u001b[0m\n\u001b[0;31mSyntaxError\u001b[0m\u001b[0;31m:\u001b[0m cannot assign to function call here. Maybe you meant '==' instead of '='?\n"
          ]
        }
      ],
      "source": [
        "#Add Elements: Add elements to the list.\n",
        "list=[10,20]\n",
        "a=30\n",
        "\n",
        "list.append(a)\n",
        "print(list)\n",
        "#Remove Elements: Remove specific elements from the list.\n",
        "list.pop(1)#by index value\n",
        "print(list)\n",
        "list.remove(10)#by itemname\n",
        "print(list)\n",
        "#Sort Elements: Sort the list in ascending and descending order.\n",
        "l=[5,8,9,15,30,89]\n",
        "print(sorted(l))\n",
        "#Find Minimum and Maximum: Find the minimum and maximum elements in thelist.\n",
        "print(\"The minimum value is:\",min(l))\n",
        "print(\"The maximum value is:\",max(l))\n",
        "#Calculate Sum and Average\n",
        "print(\"The sum is:\",sum(l))\n",
        "print(\"The average is :\",((sum(l)/len(l))))\n",
        "\n",
        "\n",
        "#Create a Tuple: Define a tuple with elements of different data types(10, 'hello', 3.14, 'world')\n",
        "tuple=(10, 'hello', 3.14, 'world')\n",
        "print(tuple)\n",
        "#Access Elements: Access individual elements and slices of the tuple.\n",
        "for i in tuple:\n",
        "    print(i)\n",
        "print(tuple[1:3])\n",
        "print(tuple[:-1])\n",
        "#Concatenate Tuples: Combine two tuples to create a new tuple.\n",
        "t2=(5,0.5)\n",
        "t3=tuple+t2\n",
        "print(t3)\n",
        "#Immutable Nature: Attempt to modify elements of the tuple and handle the resulting error.\n",
        "tuple(3)=\"PI\" #ERROR\n",
        "\n",
        "#Create a Dictionary: Define a dictionary with key-value pairs of different data types.({'name': 'Alice', 'age': 30, 'city': 'New York'}\n",
        "dictionary={'name': 'Alice', 'age': 30, 'city': 'New York'}\n",
        "print(dictionary)\n",
        "#Access Values: Access values using keys.\n",
        "print(dictionary['name'])\n",
        "print(dictionary['age'])\n",
        "\n",
        "#Modify Dictionary: Update values, add new key-value pairs, and remove existing pairs.\n",
        "dictionary['name']= \"James\"\n",
        "print(dictionary)\n",
        "dictionary.pop('city')\n",
        "print(dictionary)\n",
        "#Iterate Over Dictionary: Use loops to iterate over keys or values.\n",
        "for k in dictionary:\n",
        "    print(\"KEY:\",k)\n",
        "\n",
        "print(dictionary.items())\n",
        "\n",
        "\n",
        "\n",
        "\n",
        "\n",
        "\n",
        "\n",
        "\n",
        "\n",
        "\n",
        "\n",
        "\n",
        "\n",
        "\n",
        "\n",
        "\n",
        "\n",
        "\n",
        "\n",
        "\n",
        "\n"
      ]
    }
  ]
}