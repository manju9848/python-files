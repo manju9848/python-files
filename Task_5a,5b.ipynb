{
  "nbformat": 4,
  "nbformat_minor": 0,
  "metadata": {
    "colab": {
      "provenance": [],
      "authorship_tag": "ABX9TyOCUCi81ihQWMMg6rH+/ZTV",
      "include_colab_link": true
    },
    "kernelspec": {
      "name": "python3",
      "display_name": "Python 3"
    },
    "language_info": {
      "name": "python"
    }
  },
  "cells": [
    {
      "cell_type": "markdown",
      "metadata": {
        "id": "view-in-github",
        "colab_type": "text"
      },
      "source": [
        "<a href=\"https://colab.research.google.com/github/manju9848/python-files/blob/main/Task_5a%2C5b.ipynb\" target=\"_parent\"><img src=\"https://colab.research.google.com/assets/colab-badge.svg\" alt=\"Open In Colab\"/></a>"
      ]
    },
    {
      "cell_type": "code",
      "execution_count": 9,
      "metadata": {
        "colab": {
          "base_uri": "https://localhost:8080/"
        },
        "id": "WCz_g7EuUKnW",
        "outputId": "60dac82d-279b-4778-c8e2-0613ba24b025"
      },
      "outputs": [
        {
          "output_type": "stream",
          "name": "stdout",
          "text": [
            "{'id': 2, 'name': 'Bob', 'department': 'Engineering'}\n",
            "Before sorting:\n",
            "{'name': 'Alice', 'score': 88}\n",
            "{'name': 'Bob', 'score': 95}\n",
            "{'name': 'Charlie', 'score': 75}\n",
            "{'name': 'Diana', 'score': 85}\n",
            "\n",
            "After sorting:\n",
            "{'name': 'Charlie', 'score': 75}\n",
            "{'name': 'Diana', 'score': 85}\n",
            "{'name': 'Alice', 'score': 88}\n",
            "{'name': 'Bob', 'score': 95}\n"
          ]
        }
      ],
      "source": [
        "def find_employee_by_id(employees, target_id):\n",
        "    for employee in employees:\n",
        "        if employee['id'] == target_id:\n",
        "            return employee\n",
        "    return None\n",
        "\n",
        "# Test the function\n",
        "employees = [\n",
        "    {'id': 1, 'name': 'Alice', 'department': 'HR'},\n",
        "    {'id': 2, 'name': 'Bob', 'department': 'Engineering'},\n",
        "    {'id': 3, 'name': 'Charlie', 'department': 'Sales'},\n",
        "]\n",
        "print(find_employee_by_id(employees, 2))  # Output: {'id': 2, 'name': 'Bob', 'department': 'Engineering'}\n",
        "\n",
        "\n",
        "def bubble_sort_scores(students):\n",
        "    n = len(students)\n",
        "    for i in range(n):\n",
        "        # Track if any swap is made in this pass\n",
        "        swapped = False\n",
        "        for j in range(0, n-i-1):\n",
        "            if students[j]['score'] > students[j+1]['score']:\n",
        "                # Swap if the score of the current student is greater than the next\n",
        "                students[j], students[j+1] = students[j+1], students[j]\n",
        "                swapped = True\n",
        "        # If no two elements were swapped, the list is already sorted\n",
        "        if not swapped:\n",
        "            break\n",
        "# Example usage\n",
        "students = [\n",
        "    {'name': 'Alice', 'score': 88},\n",
        "    {'name': 'Bob', 'score': 95},\n",
        "    {'name': 'Charlie', 'score': 75},\n",
        "    {'name': 'Diana', 'score': 85}\n",
        "]\n",
        "print(\"Before sorting:\")\n",
        "for student in students:\n",
        "    print(student)\n",
        "bubble_sort_scores(students)\n",
        "print(\"\\nAfter sorting:\")\n",
        "for student in students:\n",
        "    print(student)\n",
        "\n",
        "\n",
        "\n",
        "\n",
        "\n",
        "\n",
        "\n",
        "\n",
        "\n",
        "\n",
        "\n",
        "\n",
        "\n",
        "\n",
        "\n",
        "\n",
        "\n",
        "\n",
        "\n",
        "\n",
        "\n",
        "\n",
        "\n",
        "\n",
        "\n",
        "\n",
        "\n"
      ]
    }
  ]
}