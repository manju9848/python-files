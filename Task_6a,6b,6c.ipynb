{
  "nbformat": 4,
  "nbformat_minor": 0,
  "metadata": {
    "colab": {
      "provenance": [],
      "authorship_tag": "ABX9TyMbN+7k8IJxwMFXncYDHADw",
      "include_colab_link": true
    },
    "kernelspec": {
      "name": "python3",
      "display_name": "Python 3"
    },
    "language_info": {
      "name": "python"
    }
  },
  "cells": [
    {
      "cell_type": "markdown",
      "metadata": {
        "id": "view-in-github",
        "colab_type": "text"
      },
      "source": [
        "<a href=\"https://colab.research.google.com/github/manju9848/python-files/blob/main/Task_6a%2C6b%2C6c.ipynb\" target=\"_parent\"><img src=\"https://colab.research.google.com/assets/colab-badge.svg\" alt=\"Open In Colab\"/></a>"
      ]
    },
    {
      "cell_type": "code",
      "execution_count": 11,
      "metadata": {
        "colab": {
          "base_uri": "https://localhost:8080/",
          "height": 106
        },
        "id": "WCz_g7EuUKnW",
        "outputId": "97e183e4-53ac-4cbe-d3d4-cdcedbd57925"
      },
      "outputs": [
        {
          "output_type": "error",
          "ename": "SyntaxError",
          "evalue": "invalid character '“' (U+201C) (ipython-input-1993984674.py, line 24)",
          "traceback": [
            "\u001b[0;36m  File \u001b[0;32m\"/tmp/ipython-input-1993984674.py\"\u001b[0;36m, line \u001b[0;32m24\u001b[0m\n\u001b[0;31m    “Error objects are thrown when runtime Error occur.\u001b[0m\n\u001b[0m    ^\u001b[0m\n\u001b[0;31mSyntaxError\u001b[0m\u001b[0;31m:\u001b[0m invalid character '“' (U+201C)\n"
          ]
        }
      ],
      "source": [
        "def writefile(filename):\n",
        "f=open(\"log.txt \",\"w\")\n",
        "f.write(\"Error objects are thrown when runtime errors occur. The Error object can also be used as a base object for user-defined exceptions \")\n",
        "f.close()\n",
        "def readfile(filename):\n",
        "with open(filename, \"r\") as file:\n",
        "content = file.read()\n",
        "print(content)\n",
        "writefile(\"write\")\n",
        "readfile(\"text\")\n",
        "\n",
        "\n",
        "def count_error_lines(filename):\n",
        "    error_count = 0\n",
        "    with open(filename, \"r\") as file:\n",
        "        for line in file:\n",
        "            if \"ERROR\" in line:\n",
        "                error_count += 1\n",
        "    return error_count\n",
        "error_lines = count_error_lines(\"log.txt\")\n",
        "print(f\"Number of lines with 'ERROR': {error_lines}\")\n",
        "\n",
        "log.txt\n",
        "“Error objects are thrown when runtime Error occur.\n",
        " The Error object can also be used as a base object for user-defined exceptions.”\n",
        "\n",
        "\n",
        "def write_employee_report(filename):\n",
        "    employees = [\n",
        "        {\"name\": \"Alice\", \"department\": \"HR\"},\n",
        "        {\"name\": \"Bob\", \"department\": \"Engineering\"},\n",
        "        {\"name\": \"Charlie\", \"department\": \"Finance\"}\n",
        "    ]\n",
        "\n",
        "    with open(filename, \"w\") as file:\n",
        "        for employee in employees:\n",
        "            line = f\"Name: {employee['name']}, Department: {employee['department']}\\n\"\n",
        "            file.write(line)\n",
        "\n",
        "# Example usage:\n",
        "write_employee_report(\"employee_report.txt\")\n",
        "\n",
        "\n",
        "\n",
        "\n",
        "\n",
        "\n",
        "\n",
        "\n",
        "\n",
        "\n",
        "\n",
        "\n",
        "\n",
        "\n",
        "\n",
        "\n",
        "\n",
        "\n",
        "\n",
        "\n",
        "\n",
        "\n",
        "\n",
        "\n",
        "\n",
        "\n",
        "\n",
        "\n"
      ]
    }
  ]
}