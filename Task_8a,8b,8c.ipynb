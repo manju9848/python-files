{
  "nbformat": 4,
  "nbformat_minor": 0,
  "metadata": {
    "colab": {
      "provenance": [],
      "authorship_tag": "ABX9TyOXTcZTpWnU74HcOnAJoSNZ",
      "include_colab_link": true
    },
    "kernelspec": {
      "name": "python3",
      "display_name": "Python 3"
    },
    "language_info": {
      "name": "python"
    }
  },
  "cells": [
    {
      "cell_type": "markdown",
      "metadata": {
        "id": "view-in-github",
        "colab_type": "text"
      },
      "source": [
        "<a href=\"https://colab.research.google.com/github/manju9848/python-files/blob/main/Task_8a%2C8b%2C8c.ipynb\" target=\"_parent\"><img src=\"https://colab.research.google.com/assets/colab-badge.svg\" alt=\"Open In Colab\"/></a>"
      ]
    },
    {
      "cell_type": "code",
      "execution_count": 13,
      "metadata": {
        "colab": {
          "base_uri": "https://localhost:8080/"
        },
        "id": "WCz_g7EuUKnW",
        "outputId": "1e775461-215a-49d7-f4c7-d79872cb83a2"
      },
      "outputs": [
        {
          "output_type": "stream",
          "name": "stdout",
          "text": [
            "Enter the starting number: 1\n",
            "Enter the ending number: 50\n",
            "Enter the step value: 5\n",
            "1\n",
            "6\n",
            "11\n",
            "16\n",
            "21\n",
            "26\n",
            "31\n",
            "36\n",
            "41\n",
            "46\n",
            "0\n",
            "1\n",
            "2\n",
            "HI, I AM CREATED BY A FUNCTION PASSED AS AN ARGUMENT.\n",
            "hi, i am created by a function passed as an argument.\n"
          ]
        }
      ],
      "source": [
        "def number_sequence(start, end, step=1):\n",
        "    current = start\n",
        "    while current <= end:\n",
        "        yield current\n",
        "        current += step\n",
        "start = int(input(\"Enter the starting number: \"))\n",
        "end = int(input(\"Enter the ending number: \"))\n",
        "step = int(input(\"Enter the step value: \"))\n",
        "# Create the generator\n",
        "sequence_generator = number_sequence(start, end, step)\n",
        "# Print the generated sequence of numbers\n",
        "for number in sequence_generator:\n",
        "    print(number)\n",
        "\n",
        "\n",
        "\n",
        "def my_generator(n):\n",
        "    # initialize counter\n",
        "    value = 0\n",
        "    # loop until counter is less than n\n",
        "    while value < n:\n",
        "        # produce the current value of the counter\n",
        "        yield value\n",
        "        # increment the counter\n",
        "        value += 1\n",
        "# iterate over the generator object produced by my_generator\n",
        "for value in my_generator(3):\n",
        "    # print each value produced by generator\n",
        "    print(value)\n",
        "\n",
        "def uppercase_decorator(func):\n",
        "    def wrapper(text):\n",
        "        return func(text).upper()\n",
        "    return wrapper\n",
        "\n",
        "def lowercase_decorator(func):\n",
        "    def wrapper(text):\n",
        "        return func(text).lower()\n",
        "    return wrapper\n",
        "\n",
        "@uppercase_decorator\n",
        "def shout(text):\n",
        "    return text\n",
        "\n",
        "@lowercase_decorator\n",
        "def whisper(text):\n",
        "    return text\n",
        "\n",
        "def greet(func):\n",
        "    greeting = func(\"Hi, I am created by a function passed as an argument.\")\n",
        "    print(greeting)\n",
        "\n",
        "greet(shout)\n",
        "greet(whisper)\n",
        "\n",
        "\n",
        "\n",
        "\n",
        "\n",
        "\n",
        "\n",
        "\n",
        "\n",
        "\n",
        "\n",
        "\n",
        "\n",
        "\n",
        "\n",
        "\n",
        "\n",
        "\n",
        "\n",
        "\n",
        "\n",
        "\n",
        "\n",
        "\n",
        "\n",
        "\n",
        "\n",
        "\n",
        "\n",
        "\n",
        "\n",
        "\n"
      ]
    }
  ]
}