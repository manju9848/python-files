{
  "nbformat": 4,
  "nbformat_minor": 0,
  "metadata": {
    "colab": {
      "provenance": [],
      "authorship_tag": "ABX9TyPF6hLTekW0s6x6RZvr2hW+",
      "include_colab_link": true
    },
    "kernelspec": {
      "name": "python3",
      "display_name": "Python 3"
    },
    "language_info": {
      "name": "python"
    }
  },
  "cells": [
    {
      "cell_type": "markdown",
      "metadata": {
        "id": "view-in-github",
        "colab_type": "text"
      },
      "source": [
        "<a href=\"https://colab.research.google.com/github/manju9848/python-files/blob/main/task_1a%2C1b%2C1c.ipynb\" target=\"_parent\"><img src=\"https://colab.research.google.com/assets/colab-badge.svg\" alt=\"Open In Colab\"/></a>"
      ]
    },
    {
      "cell_type": "code",
      "execution_count": 1,
      "metadata": {
        "colab": {
          "base_uri": "https://localhost:8080/"
        },
        "id": "BcXN2KiRpJWx",
        "outputId": "682e3d90-84e8-46ff-ddfe-d8013e9e56d7"
      },
      "outputs": [
        {
          "output_type": "stream",
          "name": "stdout",
          "text": [
            "Enter the First number:2\n",
            "Enter the Second number:4\n",
            "Addition: 6\n",
            "Subtraction : -2\n",
            "Multiplication: 8\n",
            "Division: 0.5\n",
            "Enter the First number: 5\n",
            "Enter the Second number: 6\n",
            "Enter the Third number: 7\n",
            "5 > 6 is False\n",
            "5 < 6 is True\n",
            "7 == 5 is False\n",
            "7 != 6 is True\n",
            "5 >= 6 is False\n",
            "6 <= 5 is False\n",
            "Enter the First number: 9\n",
            "Enter the Second number: 7\n",
            "Enter the Third number: 8\n",
            "\n",
            "Logical Operations Results:\n",
            "False\n",
            "True\n",
            "False\n",
            "True\n"
          ]
        }
      ],
      "source": [
        "x =int(input(\"Enter the First number:\"))\n",
        "y =int(input(\"Enter the Second number:\"))\n",
        "\n",
        "add = x + y\n",
        "sub = x - y\n",
        "pro = x * y\n",
        "div = x / y\n",
        "\n",
        "print(\"Addition:\",add)\n",
        "print(\"Subtraction :\",sub)\n",
        "print(\"Multiplication:\",pro)\n",
        "print(\"Division:\",div)\n",
        "\n",
        "# Initializing the value of a, b, and c\n",
        "a = int(input(\"Enter the First number: \"))\n",
        "b = int(input(\"Enter the Second number: \"))\n",
        "c = int(input(\"Enter the Third number: \"))\n",
        "\n",
        "# Using relational operators\n",
        "print(a, \">\", b, \"is\", a > b)\n",
        "print(a, \"<\", b, \"is\", a < b)\n",
        "print(c, \"==\", a, \"is\", c == a)\n",
        "print(c, \"!=\", b, \"is\", c != b)\n",
        "print(a, \">=\", b, \"is\", a >= b)\n",
        "print(b, \"<=\", a, \"is\", b <= a)\n",
        "\n",
        "\n",
        "# Taking three numbers as input\n",
        "a = int(input(\"Enter the First number: \"))\n",
        "b = int(input(\"Enter the Second number: \"))\n",
        "c = int(input(\"Enter the Third number: \"))\n",
        "\n",
        "# Performing logical operations\n",
        "print(\"\\nLogical Operations Results:\")\n",
        "print((a > b) and (b > c))\n",
        "print((a > b) or (b > c))\n",
        "print(not(a > b))\n",
        "print(not(b > c))\n",
        "\n"
      ]
    }
  ]
}