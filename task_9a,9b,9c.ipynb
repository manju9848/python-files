{
  "nbformat": 4,
  "nbformat_minor": 0,
  "metadata": {
    "colab": {
      "provenance": [],
      "authorship_tag": "ABX9TyNW0NWLqJjDsBzEczrjZFol",
      "include_colab_link": true
    },
    "kernelspec": {
      "name": "python3",
      "display_name": "Python 3"
    },
    "language_info": {
      "name": "python"
    }
  },
  "cells": [
    {
      "cell_type": "markdown",
      "metadata": {
        "id": "view-in-github",
        "colab_type": "text"
      },
      "source": [
        "<a href=\"https://colab.research.google.com/github/manju9848/python-files/blob/main/task_9a%2C9b%2C9c.ipynb\" target=\"_parent\"><img src=\"https://colab.research.google.com/assets/colab-badge.svg\" alt=\"Open In Colab\"/></a>"
      ]
    },
    {
      "cell_type": "code",
      "execution_count": 14,
      "metadata": {
        "colab": {
          "base_uri": "https://localhost:8080/"
        },
        "id": "WCz_g7EuUKnW",
        "outputId": "298bb68f-ed53-44c2-8a65-06e2718570a8"
      },
      "outputs": [
        {
          "output_type": "stream",
          "name": "stdout",
          "text": [
            "Grades List: [85, 90, 78, 92, 88]\n",
            "Enter the index of the grade you want to view: 10\n",
            "Invalid index. Please enter a valid index.\n",
            "Enter the numerator: 25\n",
            "Enter the denominator: 5\n",
            "Result: 5.0\n",
            "Enter a number: 4\n",
            "Exception occurred: Invalid Age\n"
          ]
        }
      ],
      "source": [
        "# Initialize the list of grades\n",
        "grades = [85, 90, 78, 92, 88]\n",
        "\n",
        "# Display the grades list\n",
        "print(\"Grades List:\", grades)\n",
        "\n",
        "# Prompt the user to enter the index of the grade they want to view\n",
        "try:\n",
        "    index = int(input(\"Enter the index of the grade you want to view: \"))\n",
        "    # Attempt to display the grade at the specified index\n",
        "    print(f\"The grade at index {index} is: {grades[index]}\")\n",
        "except IndexError:\n",
        "    # Handle the case where the index is out of range\n",
        "    print(\"Invalid index. Please enter a valid index.\")\n",
        "except ValueError:\n",
        "    # Handle the case where the input is not an integer\n",
        "    print(\"Invalid input. Please enter a numerical index.\")\n",
        "\n",
        "\n",
        "\n",
        "\n",
        "\n",
        "\n",
        "# Function to perform division\n",
        "def divide_numbers():\n",
        "    try:\n",
        "        # Prompt the user to enter the numerator\n",
        "        numerator = float(input(\"Enter the numerator: \"))\n",
        "        # Prompt the user to enter the denominator\n",
        "        denominator = float(input(\"Enter the denominator: \"))\n",
        "        # Attempt to perform division\n",
        "        result = numerator / denominator\n",
        "        print(f\"Result: {result}\")\n",
        "    except ZeroDivisionError:\n",
        "        # Handle division by zero error\n",
        "        print(\"Error: Division by zero is not allowed.\")\n",
        "    except ValueError:\n",
        "        # Handle invalid input that is not a number\n",
        "        print(\"Error: Please enter valid numbers.\")\n",
        "\n",
        "# Call the function to execute the division operation\n",
        "divide_numbers()\n",
        "\n",
        "\n",
        "# define Python user-defined exceptions\n",
        "class InvalidAgeException(Exception):\n",
        "    \"Raised when the input value is less than 18\"\n",
        "    pass\n",
        "# you need to guess this number\n",
        "number = 18\n",
        "\n",
        "try:\n",
        "    input_num = int(input(\"Enter a number: \"))\n",
        "    if input_num < number:\n",
        "        raise InvalidAgeException\n",
        "    else:\n",
        "        print(\"Eligible to Vote\")\n",
        "\n",
        "except InvalidAgeException:\n",
        "    print(\"Exception occurred: Invalid Age\")\n",
        "\n",
        "\n",
        "\n",
        "\n",
        "\n",
        "\n",
        "\n",
        "\n",
        "\n",
        "\n",
        "\n",
        "\n",
        "\n",
        "\n",
        "\n",
        "\n",
        "\n",
        "\n",
        "\n",
        "\n",
        "\n",
        "\n",
        "\n",
        "\n",
        "\n",
        "\n",
        "\n",
        "\n",
        "\n"
      ]
    }
  ]
}